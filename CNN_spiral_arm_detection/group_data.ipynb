{
 "cells": [
  {
   "cell_type": "markdown",
   "metadata": {},
   "source": [
    "# pre-processing data\n",
    "data source: https://www.kaggle.com/c/galaxy-zoo-the-galaxy-challenge/data?select=images_test_rev1.zip\n",
    "\n",
    "Downloaded data summary:\n",
    "* 61578 jpg images in the images_training_rev1 folder. \n",
    "* 79975 jpg images in the images_test_rev1 folder. \n",
    "* training_solutions_rev1.csv contains meta info about the dataset.\n",
    "\n",
    "What we need:\n",
    "\n",
    "This project has a different and simpler goal than the original Kaggle competition.\n",
    "We are going to  use this dataste train a NN to identify spiral arms only. The final goal\n",
    "is to let the NN tell us whether an image contains spiral arms. We do not care about the rest of the galaxy morphology. \n",
    "\n",
    "Hence our data processing plan is:\n",
    "1. Select galaxies that have spiral arms in training and test sets.  We can use Class4.1 > 0.5 in training_solutions_rev1.csv as a criterion.\n",
    "2. Put galaxies with Class4.1 >= 0.5 into a new folder called spirals.\n",
    "3. Put galaxies with 0 < Class4.1 < 0.5 into a new folder called non-spirals.\n",
    "[optional later step]4. Put galaxies with Class4.1 = 0 into a new folder called rounds. \n",
    "\n",
    "\n"
   ]
  },
  {
   "cell_type": "markdown",
   "metadata": {},
   "source": [
    "### load training data meta information"
   ]
  },
  {
   "cell_type": "code",
   "execution_count": 4,
   "metadata": {},
   "outputs": [
    {
     "data": {
      "text/html": [
       "<div>\n",
       "<style scoped>\n",
       "    .dataframe tbody tr th:only-of-type {\n",
       "        vertical-align: middle;\n",
       "    }\n",
       "\n",
       "    .dataframe tbody tr th {\n",
       "        vertical-align: top;\n",
       "    }\n",
       "\n",
       "    .dataframe thead th {\n",
       "        text-align: right;\n",
       "    }\n",
       "</style>\n",
       "<table border=\"1\" class=\"dataframe\">\n",
       "  <thead>\n",
       "    <tr style=\"text-align: right;\">\n",
       "      <th></th>\n",
       "      <th>GalaxyID</th>\n",
       "      <th>Class1.1</th>\n",
       "      <th>Class1.2</th>\n",
       "      <th>Class1.3</th>\n",
       "      <th>Class2.1</th>\n",
       "      <th>Class2.2</th>\n",
       "      <th>Class3.1</th>\n",
       "      <th>Class3.2</th>\n",
       "      <th>Class4.1</th>\n",
       "      <th>Class4.2</th>\n",
       "      <th>...</th>\n",
       "      <th>Class9.3</th>\n",
       "      <th>Class10.1</th>\n",
       "      <th>Class10.2</th>\n",
       "      <th>Class10.3</th>\n",
       "      <th>Class11.1</th>\n",
       "      <th>Class11.2</th>\n",
       "      <th>Class11.3</th>\n",
       "      <th>Class11.4</th>\n",
       "      <th>Class11.5</th>\n",
       "      <th>Class11.6</th>\n",
       "    </tr>\n",
       "  </thead>\n",
       "  <tbody>\n",
       "    <tr>\n",
       "      <th>0</th>\n",
       "      <td>100008</td>\n",
       "      <td>0.383147</td>\n",
       "      <td>0.616853</td>\n",
       "      <td>0.000000</td>\n",
       "      <td>0.000000</td>\n",
       "      <td>0.616853</td>\n",
       "      <td>0.038452</td>\n",
       "      <td>0.578401</td>\n",
       "      <td>0.418398</td>\n",
       "      <td>0.198455</td>\n",
       "      <td>...</td>\n",
       "      <td>0.000000</td>\n",
       "      <td>0.279952</td>\n",
       "      <td>0.138445</td>\n",
       "      <td>0.000000</td>\n",
       "      <td>0.000000</td>\n",
       "      <td>0.092886</td>\n",
       "      <td>0.0</td>\n",
       "      <td>0.0</td>\n",
       "      <td>0.0</td>\n",
       "      <td>0.325512</td>\n",
       "    </tr>\n",
       "    <tr>\n",
       "      <th>1</th>\n",
       "      <td>100023</td>\n",
       "      <td>0.327001</td>\n",
       "      <td>0.663777</td>\n",
       "      <td>0.009222</td>\n",
       "      <td>0.031178</td>\n",
       "      <td>0.632599</td>\n",
       "      <td>0.467370</td>\n",
       "      <td>0.165229</td>\n",
       "      <td>0.591328</td>\n",
       "      <td>0.041271</td>\n",
       "      <td>...</td>\n",
       "      <td>0.018764</td>\n",
       "      <td>0.000000</td>\n",
       "      <td>0.131378</td>\n",
       "      <td>0.459950</td>\n",
       "      <td>0.000000</td>\n",
       "      <td>0.591328</td>\n",
       "      <td>0.0</td>\n",
       "      <td>0.0</td>\n",
       "      <td>0.0</td>\n",
       "      <td>0.000000</td>\n",
       "    </tr>\n",
       "    <tr>\n",
       "      <th>2</th>\n",
       "      <td>100053</td>\n",
       "      <td>0.765717</td>\n",
       "      <td>0.177352</td>\n",
       "      <td>0.056931</td>\n",
       "      <td>0.000000</td>\n",
       "      <td>0.177352</td>\n",
       "      <td>0.000000</td>\n",
       "      <td>0.177352</td>\n",
       "      <td>0.000000</td>\n",
       "      <td>0.177352</td>\n",
       "      <td>...</td>\n",
       "      <td>0.000000</td>\n",
       "      <td>0.000000</td>\n",
       "      <td>0.000000</td>\n",
       "      <td>0.000000</td>\n",
       "      <td>0.000000</td>\n",
       "      <td>0.000000</td>\n",
       "      <td>0.0</td>\n",
       "      <td>0.0</td>\n",
       "      <td>0.0</td>\n",
       "      <td>0.000000</td>\n",
       "    </tr>\n",
       "    <tr>\n",
       "      <th>3</th>\n",
       "      <td>100078</td>\n",
       "      <td>0.693377</td>\n",
       "      <td>0.238564</td>\n",
       "      <td>0.068059</td>\n",
       "      <td>0.000000</td>\n",
       "      <td>0.238564</td>\n",
       "      <td>0.109493</td>\n",
       "      <td>0.129071</td>\n",
       "      <td>0.189098</td>\n",
       "      <td>0.049466</td>\n",
       "      <td>...</td>\n",
       "      <td>0.000000</td>\n",
       "      <td>0.094549</td>\n",
       "      <td>0.000000</td>\n",
       "      <td>0.094549</td>\n",
       "      <td>0.189098</td>\n",
       "      <td>0.000000</td>\n",
       "      <td>0.0</td>\n",
       "      <td>0.0</td>\n",
       "      <td>0.0</td>\n",
       "      <td>0.000000</td>\n",
       "    </tr>\n",
       "    <tr>\n",
       "      <th>4</th>\n",
       "      <td>100090</td>\n",
       "      <td>0.933839</td>\n",
       "      <td>0.000000</td>\n",
       "      <td>0.066161</td>\n",
       "      <td>0.000000</td>\n",
       "      <td>0.000000</td>\n",
       "      <td>0.000000</td>\n",
       "      <td>0.000000</td>\n",
       "      <td>0.000000</td>\n",
       "      <td>0.000000</td>\n",
       "      <td>...</td>\n",
       "      <td>0.000000</td>\n",
       "      <td>0.000000</td>\n",
       "      <td>0.000000</td>\n",
       "      <td>0.000000</td>\n",
       "      <td>0.000000</td>\n",
       "      <td>0.000000</td>\n",
       "      <td>0.0</td>\n",
       "      <td>0.0</td>\n",
       "      <td>0.0</td>\n",
       "      <td>0.000000</td>\n",
       "    </tr>\n",
       "  </tbody>\n",
       "</table>\n",
       "<p>5 rows × 38 columns</p>\n",
       "</div>"
      ],
      "text/plain": [
       "   GalaxyID  Class1.1  Class1.2  Class1.3  Class2.1  Class2.2  Class3.1  \\\n",
       "0    100008  0.383147  0.616853  0.000000  0.000000  0.616853  0.038452   \n",
       "1    100023  0.327001  0.663777  0.009222  0.031178  0.632599  0.467370   \n",
       "2    100053  0.765717  0.177352  0.056931  0.000000  0.177352  0.000000   \n",
       "3    100078  0.693377  0.238564  0.068059  0.000000  0.238564  0.109493   \n",
       "4    100090  0.933839  0.000000  0.066161  0.000000  0.000000  0.000000   \n",
       "\n",
       "   Class3.2  Class4.1  Class4.2  ...  Class9.3  Class10.1  Class10.2  \\\n",
       "0  0.578401  0.418398  0.198455  ...  0.000000   0.279952   0.138445   \n",
       "1  0.165229  0.591328  0.041271  ...  0.018764   0.000000   0.131378   \n",
       "2  0.177352  0.000000  0.177352  ...  0.000000   0.000000   0.000000   \n",
       "3  0.129071  0.189098  0.049466  ...  0.000000   0.094549   0.000000   \n",
       "4  0.000000  0.000000  0.000000  ...  0.000000   0.000000   0.000000   \n",
       "\n",
       "   Class10.3  Class11.1  Class11.2  Class11.3  Class11.4  Class11.5  Class11.6  \n",
       "0   0.000000   0.000000   0.092886        0.0        0.0        0.0   0.325512  \n",
       "1   0.459950   0.000000   0.591328        0.0        0.0        0.0   0.000000  \n",
       "2   0.000000   0.000000   0.000000        0.0        0.0        0.0   0.000000  \n",
       "3   0.094549   0.189098   0.000000        0.0        0.0        0.0   0.000000  \n",
       "4   0.000000   0.000000   0.000000        0.0        0.0        0.0   0.000000  \n",
       "\n",
       "[5 rows x 38 columns]"
      ]
     },
     "metadata": {},
     "output_type": "display_data"
    }
   ],
   "source": [
    "import pandas as pd\n",
    "meta_info = pd.read_csv('training_solutions_rev1.csv')\n",
    "display(meta_info.head())"
   ]
  },
  {
   "cell_type": "code",
   "execution_count": 5,
   "metadata": {},
   "outputs": [
    {
     "name": "stdout",
     "output_type": "stream",
     "text": [
      "<class 'pandas.core.frame.DataFrame'>\n",
      "RangeIndex: 61578 entries, 0 to 61577\n",
      "Data columns (total 38 columns):\n",
      " #   Column     Non-Null Count  Dtype  \n",
      "---  ------     --------------  -----  \n",
      " 0   GalaxyID   61578 non-null  int64  \n",
      " 1   Class1.1   61578 non-null  float64\n",
      " 2   Class1.2   61578 non-null  float64\n",
      " 3   Class1.3   61578 non-null  float64\n",
      " 4   Class2.1   61578 non-null  float64\n",
      " 5   Class2.2   61578 non-null  float64\n",
      " 6   Class3.1   61578 non-null  float64\n",
      " 7   Class3.2   61578 non-null  float64\n",
      " 8   Class4.1   61578 non-null  float64\n",
      " 9   Class4.2   61578 non-null  float64\n",
      " 10  Class5.1   61578 non-null  float64\n",
      " 11  Class5.2   61578 non-null  float64\n",
      " 12  Class5.3   61578 non-null  float64\n",
      " 13  Class5.4   61578 non-null  float64\n",
      " 14  Class6.1   61578 non-null  float64\n",
      " 15  Class6.2   61578 non-null  float64\n",
      " 16  Class7.1   61578 non-null  float64\n",
      " 17  Class7.2   61578 non-null  float64\n",
      " 18  Class7.3   61578 non-null  float64\n",
      " 19  Class8.1   61578 non-null  float64\n",
      " 20  Class8.2   61578 non-null  float64\n",
      " 21  Class8.3   61578 non-null  float64\n",
      " 22  Class8.4   61578 non-null  float64\n",
      " 23  Class8.5   61578 non-null  float64\n",
      " 24  Class8.6   61578 non-null  float64\n",
      " 25  Class8.7   61578 non-null  float64\n",
      " 26  Class9.1   61578 non-null  float64\n",
      " 27  Class9.2   61578 non-null  float64\n",
      " 28  Class9.3   61578 non-null  float64\n",
      " 29  Class10.1  61578 non-null  float64\n",
      " 30  Class10.2  61578 non-null  float64\n",
      " 31  Class10.3  61578 non-null  float64\n",
      " 32  Class11.1  61578 non-null  float64\n",
      " 33  Class11.2  61578 non-null  float64\n",
      " 34  Class11.3  61578 non-null  float64\n",
      " 35  Class11.4  61578 non-null  float64\n",
      " 36  Class11.5  61578 non-null  float64\n",
      " 37  Class11.6  61578 non-null  float64\n",
      "dtypes: float64(37), int64(1)\n",
      "memory usage: 17.9 MB\n",
      "None\n"
     ]
    }
   ],
   "source": [
    "# check datatypes of each columnn\n",
    "print(meta_info.info())"
   ]
  },
  {
   "cell_type": "code",
   "execution_count": 15,
   "metadata": {},
   "outputs": [],
   "source": [
    "# select spiral galaxies for columns  ID\n",
    "meta_use_spiral = meta_info[meta_info['Class4.1'] >= 0.5].iloc[:, 0].values\n",
    "# meta_use[:, [0]].astype(int)"
   ]
  },
  {
   "cell_type": "code",
   "execution_count": 16,
   "metadata": {},
   "outputs": [
    {
     "name": "stdout",
     "output_type": "stream",
     "text": [
      "<class 'numpy.ndarray'>\n",
      "(10397,)\n",
      "[100023 100134 100380 ... 999795 999875 999964]\n"
     ]
    }
   ],
   "source": [
    "print(type(meta_use_spiral))\n",
    "print(meta_use_spiral.shape)\n",
    "print(meta_use_spiral)"
   ]
  },
  {
   "cell_type": "code",
   "execution_count": 28,
   "metadata": {},
   "outputs": [],
   "source": [
    "import os\n",
    "import shutil\n",
    "import numpy as np\n",
    "\n",
    "path_root = './dataset/images_training_rev1/'\n",
    "write_dir_name = './dataset/training/spirals/'\n",
    "\n",
    "for num in meta_use_spiral:\n",
    "    file = path_root + str(num) + '.jpg'\n",
    "    if os.path.isfile(file):\n",
    "        shutil.copy(file, write_dir_name, follow_symlinks=True)"
   ]
  },
  {
   "cell_type": "markdown",
   "metadata": {},
   "source": [
    "now we have 10397 spirals in the training/spirals folder"
   ]
  },
  {
   "cell_type": "code",
   "execution_count": 34,
   "metadata": {},
   "outputs": [],
   "source": [
    "cond = (meta_info['Class4.1'] != 0) & (meta_info['Class4.1'] < 0.5)\n",
    "meta_use_nonspiral = meta_info[cond].iloc[:, 0].values"
   ]
  },
  {
   "cell_type": "code",
   "execution_count": 36,
   "metadata": {},
   "outputs": [
    {
     "name": "stdout",
     "output_type": "stream",
     "text": [
      "now we have 24909 nonspirals in the training/nonspiral folder\n"
     ]
    }
   ],
   "source": [
    "write_dir_name = './dataset/training/nonspirals/'\n",
    "\n",
    "# nonspirals are 5 times more. To save time, we just need similar number of non-spirals\n",
    "for num in meta_use_nonspiral[0: 10400]:\n",
    "    file = path_root + str(num) + '.jpg'\n",
    "    if os.path.isfile(file):\n",
    "        shutil.copy(file, write_dir_name, follow_symlinks=True)"
   ]
  },
  {
   "cell_type": "code",
   "execution_count": 39,
   "metadata": {},
   "outputs": [
    {
     "name": "stdout",
     "output_type": "stream",
     "text": [
      "now we have 10397 spirals in the test/spiral folder\n",
      "now we have 10397 spirals in the test/nonspiral folder\n"
     ]
    }
   ],
   "source": [
    "# Test set spirals\n",
    "path_root = './dataset/images_training_rev1/'\n",
    "write_dir_name = './dataset/test/spirals/'\n",
    "for num in meta_use_spiral[0:5000]:\n",
    "    file = path_root + str(num) + '.jpg'\n",
    "    if os.path.isfile(file):\n",
    "        shutil.copy(file, write_dir_name, follow_symlinks=True)\n",
    "\n",
    "# Test set non spirals\n",
    "path_root = './dataset/images_training_rev1/'\n",
    "write_dir_name = './dataset/test/nonspirals/'\n",
    "for num in meta_use_nonspiral[10400: 15400]:\n",
    "    file = path_root + str(num) + '.jpg'\n",
    "    if os.path.isfile(file):\n",
    "        shutil.copy(file, write_dir_name, follow_symlinks=True)\n"
   ]
  },
  {
   "cell_type": "code",
   "execution_count": 40,
   "metadata": {},
   "outputs": [
    {
     "name": "stdout",
     "output_type": "stream",
     "text": [
      "now we have 10397 spirals in the train/spiral folder\n",
      "now we have 10400 spirals in the train/nonspiral folder\n",
      "now we have 5000 spirals in the test/spiral folder\n",
      "now we have 5000 spirals in the test/nonspiral folder\n"
     ]
    }
   ],
   "source": [
    "print('now we have {} spirals in the train/spiral folder'.format(10397))\n",
    "print('now we have {} spirals in the train/nonspiral folder'.format(10400))\n",
    "print('now we have {} spirals in the test/spiral folder'.format(5000))\n",
    "print('now we have {} spirals in the test/nonspiral folder'.format(5000))"
   ]
  },
  {
   "cell_type": "code",
   "execution_count": null,
   "metadata": {},
   "outputs": [],
   "source": []
  }
 ],
 "metadata": {
  "kernelspec": {
   "display_name": "Python 3",
   "language": "python",
   "name": "python3"
  },
  "language_info": {
   "codemirror_mode": {
    "name": "ipython",
    "version": 3
   },
   "file_extension": ".py",
   "mimetype": "text/x-python",
   "name": "python",
   "nbconvert_exporter": "python",
   "pygments_lexer": "ipython3",
   "version": "3.8.5"
  }
 },
 "nbformat": 4,
 "nbformat_minor": 4
}

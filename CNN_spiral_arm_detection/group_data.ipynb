{
 "cells": [
  {
   "cell_type": "markdown",
   "metadata": {},
   "source": [
    "# pre-processing data\n",
    "data source: https://www.kaggle.com/c/galaxy-zoo-the-galaxy-challenge/data?select=images_test_rev1.zip\n",
    "\n",
    "Downloaded data summary:\n",
    "* 61578 jpg images in the images_training_rev1 folder. \n",
    "* 79975 jpg images in the images_test_rev1 folder. \n",
    "* training_solutions_rev1.csv contains meta info about the dataset.\n",
    "\n",
    "What we need:\n",
    "\n",
    "This project has a different and simpler goal than the original Kaggle competition.\n",
    "We are going to  use this dataste train a NN to identify spiral arms only. The final goal\n",
    "is to let the NN tell us whether an image contains spiral arms. We do not care about the rest of the galaxy morphology. \n",
    "\n",
    "Hence our data processing plan is:\n",
    "1. Select galaxies that have spiral arms in training and test sets.  We can use Class4.1 > 0.5 in training_solutions_rev1.csv as a criterion.\n",
    "2. Put galaxies with Class4.1 >= 0.5 into a new folder called spirals.\n",
    "3. Put galaxies with 0 < Class4.1 < 0.5 into a new folder called non-spirals.\n",
    "\n",
    "\n"
   ]
  },
  {
   "cell_type": "code",
   "execution_count": null,
   "metadata": {},
   "outputs": [],
   "source": []
  }
 ],
 "metadata": {
  "kernelspec": {
   "display_name": "Python 3",
   "language": "python",
   "name": "python3"
  },
  "language_info": {
   "codemirror_mode": {
    "name": "ipython",
    "version": 3
   },
   "file_extension": ".py",
   "mimetype": "text/x-python",
   "name": "python",
   "nbconvert_exporter": "python",
   "pygments_lexer": "ipython3",
   "version": "3.8.5"
  }
 },
 "nbformat": 4,
 "nbformat_minor": 4
}

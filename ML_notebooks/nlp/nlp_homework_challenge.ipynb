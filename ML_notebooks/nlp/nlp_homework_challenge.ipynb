{
 "cells": [
  {
   "cell_type": "markdown",
   "metadata": {},
   "source": [
    "Udemy course Machine Learning A-Z: homework challenge (lecture 242).\n",
    "Natural Language Processing  (NLP) on Restaurant Reviews. "
   ]
  },
  {
   "cell_type": "code",
   "execution_count": 1,
   "metadata": {},
   "outputs": [],
   "source": [
    "import numpy as np\n",
    "import pandas as pd\n",
    "import matplotlib.pyplot as plt"
   ]
  },
  {
   "cell_type": "code",
   "execution_count": 2,
   "metadata": {},
   "outputs": [],
   "source": [
    "data = pd.read_csv('Restaurant_Reviews.tsv', sep='\\t', quoting=3)"
   ]
  },
  {
   "cell_type": "code",
   "execution_count": 3,
   "metadata": {},
   "outputs": [
    {
     "data": {
      "text/html": [
       "<div>\n",
       "<style scoped>\n",
       "    .dataframe tbody tr th:only-of-type {\n",
       "        vertical-align: middle;\n",
       "    }\n",
       "\n",
       "    .dataframe tbody tr th {\n",
       "        vertical-align: top;\n",
       "    }\n",
       "\n",
       "    .dataframe thead th {\n",
       "        text-align: right;\n",
       "    }\n",
       "</style>\n",
       "<table border=\"1\" class=\"dataframe\">\n",
       "  <thead>\n",
       "    <tr style=\"text-align: right;\">\n",
       "      <th></th>\n",
       "      <th>Review</th>\n",
       "      <th>Liked</th>\n",
       "    </tr>\n",
       "  </thead>\n",
       "  <tbody>\n",
       "    <tr>\n",
       "      <th>0</th>\n",
       "      <td>Wow... Loved this place.</td>\n",
       "      <td>1</td>\n",
       "    </tr>\n",
       "    <tr>\n",
       "      <th>1</th>\n",
       "      <td>Crust is not good.</td>\n",
       "      <td>0</td>\n",
       "    </tr>\n",
       "    <tr>\n",
       "      <th>2</th>\n",
       "      <td>Not tasty and the texture was just nasty.</td>\n",
       "      <td>0</td>\n",
       "    </tr>\n",
       "    <tr>\n",
       "      <th>3</th>\n",
       "      <td>Stopped by during the late May bank holiday of...</td>\n",
       "      <td>1</td>\n",
       "    </tr>\n",
       "    <tr>\n",
       "      <th>4</th>\n",
       "      <td>The selection on the menu was great and so wer...</td>\n",
       "      <td>1</td>\n",
       "    </tr>\n",
       "  </tbody>\n",
       "</table>\n",
       "</div>"
      ],
      "text/plain": [
       "                                              Review  Liked\n",
       "0                           Wow... Loved this place.      1\n",
       "1                                 Crust is not good.      0\n",
       "2          Not tasty and the texture was just nasty.      0\n",
       "3  Stopped by during the late May bank holiday of...      1\n",
       "4  The selection on the menu was great and so wer...      1"
      ]
     },
     "metadata": {},
     "output_type": "display_data"
    }
   ],
   "source": [
    "display(data.head())"
   ]
  },
  {
   "cell_type": "code",
   "execution_count": 4,
   "metadata": {},
   "outputs": [
    {
     "name": "stdout",
     "output_type": "stream",
     "text": [
      "<class 'pandas.core.frame.DataFrame'>\n",
      "RangeIndex: 1000 entries, 0 to 999\n",
      "Data columns (total 2 columns):\n",
      " #   Column  Non-Null Count  Dtype \n",
      "---  ------  --------------  ----- \n",
      " 0   Review  1000 non-null   object\n",
      " 1   Liked   1000 non-null   int64 \n",
      "dtypes: int64(1), object(1)\n",
      "memory usage: 15.8+ KB\n"
     ]
    }
   ],
   "source": [
    "data.info()"
   ]
  },
  {
   "cell_type": "code",
   "execution_count": 5,
   "metadata": {},
   "outputs": [
    {
     "data": {
      "text/plain": [
       "1000"
      ]
     },
     "execution_count": 5,
     "metadata": {},
     "output_type": "execute_result"
    }
   ],
   "source": [
    "data.shape[0]"
   ]
  },
  {
   "cell_type": "code",
   "execution_count": 6,
   "metadata": {},
   "outputs": [],
   "source": [
    "import re\n",
    "import nltk\n",
    "# nltk.download('stopwords')\n",
    "from nltk.corpus import stopwords\n",
    "from nltk.stem.porter import PorterStemmer"
   ]
  },
  {
   "cell_type": "code",
   "execution_count": 7,
   "metadata": {},
   "outputs": [
    {
     "name": "stdout",
     "output_type": "stream",
     "text": [
      "<class 'list'>\n",
      "179\n",
      "['i', 'me', 'my', 'myself', 'we', 'our', 'ours', 'ourselves', 'you', \"you're\", \"you've\", \"you'll\", \"you'd\", 'your', 'yours', 'yourself', 'yourselves', 'he', 'him', 'his', 'himself', 'she', \"she's\", 'her', 'hers', 'herself', 'it', \"it's\", 'its', 'itself', 'they', 'them', 'their', 'theirs', 'themselves', 'what', 'which', 'who', 'whom', 'this', 'that', \"that'll\", 'these', 'those', 'am', 'is', 'are', 'was', 'were', 'be', 'been', 'being', 'have', 'has', 'had', 'having', 'do', 'does', 'did', 'doing', 'a', 'an', 'the', 'and', 'but', 'if', 'or', 'because', 'as', 'until', 'while', 'of', 'at', 'by', 'for', 'with', 'about', 'against', 'between', 'into', 'through', 'during', 'before', 'after', 'above', 'below', 'to', 'from', 'up', 'down', 'in', 'out', 'on', 'off', 'over', 'under', 'again', 'further', 'then', 'once', 'here', 'there', 'when', 'where', 'why', 'how', 'all', 'any', 'both', 'each', 'few', 'more', 'most', 'other', 'some', 'such', 'no', 'nor', 'not', 'only', 'own', 'same', 'so', 'than', 'too', 'very', 's', 't', 'can', 'will', 'just', 'don', \"don't\", 'should', \"should've\", 'now', 'd', 'll', 'm', 'o', 're', 've', 'y', 'ain', 'aren', \"aren't\", 'couldn', \"couldn't\", 'didn', \"didn't\", 'doesn', \"doesn't\", 'hadn', \"hadn't\", 'hasn', \"hasn't\", 'haven', \"haven't\", 'isn', \"isn't\", 'ma', 'mightn', \"mightn't\", 'mustn', \"mustn't\", 'needn', \"needn't\", 'shan', \"shan't\", 'shouldn', \"shouldn't\", 'wasn', \"wasn't\", 'weren', \"weren't\", 'won', \"won't\", 'wouldn', \"wouldn't\"]\n"
     ]
    }
   ],
   "source": [
    "check_word = stopwords.words('english')\n",
    "print(type(check_word))\n",
    "print(len(check_word))\n",
    "print(check_word)"
   ]
  },
  {
   "cell_type": "code",
   "execution_count": 8,
   "metadata": {},
   "outputs": [],
   "source": [
    "keep_list = [\"not\", \"no\", 'isn', \"isn't\", \"aren't\", \"doesn't\",'didn', \"didn't\", \"should've\",\n",
    "             'hadn', \"mustn't\", 'mustn',  'wasn', \"wasn't\", 'won', \"won't\", \"wouldn't\", 'wouldn', 'very',\n",
    "             'against', 'off', 'few', 'more', 'most', 'than', 'too', 'can', 'will', 'just', 'don', \"don't\",\n",
    "             'couldn', \"couldn't\", 'doesn', \"hadn't\", 'hasn', \"hasn't\", 'haven', \"haven't\", 'mightn', \"mightn't\", \n",
    "              \"needn't\", 'shan', \"shan't\", 'shouldn', \"shouldn't\", 'weren', \"weren't\", 'aren', 'once'\n",
    "              ]\n",
    "for word_rm in keep_list:\n",
    "    check_word.remove(word_rm)"
   ]
  },
  {
   "cell_type": "code",
   "execution_count": 9,
   "metadata": {},
   "outputs": [
    {
     "name": "stdout",
     "output_type": "stream",
     "text": [
      "['i', 'me', 'my', 'myself', 'we', 'our', 'ours', 'ourselves', 'you', \"you're\", \"you've\", \"you'll\", \"you'd\", 'your', 'yours', 'yourself', 'yourselves', 'he', 'him', 'his', 'himself', 'she', \"she's\", 'her', 'hers', 'herself', 'it', \"it's\", 'its', 'itself', 'they', 'them', 'their', 'theirs', 'themselves', 'what', 'which', 'who', 'whom', 'this', 'that', \"that'll\", 'these', 'those', 'am', 'is', 'are', 'was', 'were', 'be', 'been', 'being', 'have', 'has', 'had', 'having', 'do', 'does', 'did', 'doing', 'a', 'an', 'the', 'and', 'but', 'if', 'or', 'because', 'as', 'until', 'while', 'of', 'at', 'by', 'for', 'with', 'about', 'between', 'into', 'through', 'during', 'before', 'after', 'above', 'below', 'to', 'from', 'up', 'down', 'in', 'out', 'on', 'over', 'under', 'again', 'further', 'then', 'here', 'there', 'when', 'where', 'why', 'how', 'all', 'any', 'both', 'each', 'other', 'some', 'such', 'nor', 'only', 'own', 'same', 'so', 's', 't', 'should', 'now', 'd', 'll', 'm', 'o', 're', 've', 'y', 'ain', 'ma', 'needn']\n"
     ]
    }
   ],
   "source": [
    "print(check_word)"
   ]
  },
  {
   "cell_type": "markdown",
   "metadata": {},
   "source": [
    "### String clean up general steps:\n",
    "* replace non-word character with a space\n",
    "* make lower cases\n",
    "* split the string into individual words\n",
    "* remove stop words in those words\n",
    "* get the stem of words\n",
    "* put them back into a cleaned-up string"
   ]
  },
  {
   "cell_type": "code",
   "execution_count": 10,
   "metadata": {},
   "outputs": [],
   "source": [
    "corpus = []\n",
    "for i in range(0, data.shape[0]):\n",
    "    review = re.sub('[^a-zA-Z]+', ' ', data['Review'][i])\n",
    "    review = review.lower()\n",
    "    review = review.split()\n",
    "    ps  = PorterStemmer()\n",
    "    review = [ps.stem(word) for word in review if not word in set(check_word)]\n",
    "    review = ' '.join(review)\n",
    "    corpus.append(review)"
   ]
  },
  {
   "cell_type": "code",
   "execution_count": 11,
   "metadata": {},
   "outputs": [
    {
     "name": "stdout",
     "output_type": "stream",
     "text": [
      "['wow love place', 'crust not good', 'not tasti textur just nasti', 'stop late may bank holiday off rick steve recommend love', 'select menu great price', 'get angri want damn pho', 'honeslti didn tast fresh', 'potato like rubber could tell made ahead time kept warmer', 'fri great too', 'great touch', 'servic veri prompt']\n"
     ]
    }
   ],
   "source": [
    "print(corpus[0:11])"
   ]
  },
  {
   "cell_type": "code",
   "execution_count": 12,
   "metadata": {},
   "outputs": [],
   "source": [
    "from sklearn.feature_extraction.text import CountVectorizer\n",
    "cv = CountVectorizer(max_features = 3000)\n",
    "X = cv.fit_transform(corpus).toarray()\n",
    "y = data.iloc[:, -1].values"
   ]
  },
  {
   "cell_type": "markdown",
   "metadata": {},
   "source": [
    "## Splitting the dataset into the Training set and Test set"
   ]
  },
  {
   "cell_type": "code",
   "execution_count": 13,
   "metadata": {},
   "outputs": [],
   "source": [
    "from sklearn.model_selection import train_test_split\n",
    "X_train, X_test, y_train, y_test = train_test_split(X, y, test_size=0.2, random_state=0)"
   ]
  },
  {
   "cell_type": "markdown",
   "metadata": {},
   "source": [
    "## 1. Training using the Naive Bayes model"
   ]
  },
  {
   "cell_type": "code",
   "execution_count": 14,
   "metadata": {},
   "outputs": [
    {
     "data": {
      "text/plain": [
       "GaussianNB()"
      ]
     },
     "execution_count": 14,
     "metadata": {},
     "output_type": "execute_result"
    }
   ],
   "source": [
    "from sklearn.naive_bayes import GaussianNB\n",
    "classifier = GaussianNB()\n",
    "classifier.fit(X_train, y_train)"
   ]
  },
  {
   "cell_type": "code",
   "execution_count": 15,
   "metadata": {},
   "outputs": [
    {
     "name": "stdout",
     "output_type": "stream",
     "text": [
      "[[1 0]\n",
      " [1 0]\n",
      " [1 0]\n",
      " [0 0]\n",
      " [0 0]]\n"
     ]
    }
   ],
   "source": [
    "y_pred = classifier.predict(X_test)\n",
    "pred_test_arr = np.concatenate((y_pred.reshape(len(y_pred), 1), y_test.reshape(len(y_test), 1)), 1)\n",
    "print(pred_test_arr[0:5, :])"
   ]
  },
  {
   "cell_type": "code",
   "execution_count": 16,
   "metadata": {},
   "outputs": [
    {
     "name": "stdout",
     "output_type": "stream",
     "text": [
      "---\n",
      "Model 1: Naive Bayes\n",
      "Accuracy is 0.735\n",
      "\n",
      "The confusion matrix is \n",
      "[[56 41]\n",
      " [12 91]]\n",
      "\n",
      "F1 score is               precision    recall  f1-score   support\n",
      "\n",
      "           0       0.82      0.58      0.68        97\n",
      "           1       0.69      0.88      0.77       103\n",
      "\n",
      "    accuracy                           0.73       200\n",
      "   macro avg       0.76      0.73      0.73       200\n",
      "weighted avg       0.75      0.73      0.73       200\n",
      "\n",
      "\n"
     ]
    }
   ],
   "source": [
    "from sklearn.metrics import confusion_matrix, accuracy_score\n",
    "from sklearn.metrics import classification_report\n",
    "acc = accuracy_score(y_test, y_pred)\n",
    "cm = confusion_matrix(y_test, y_pred)\n",
    "f1 = classification_report(y_test, y_pred)\n",
    "print('---')\n",
    "print('Model 1: Naive Bayes')\n",
    "print('Accuracy is {}\\n'.format(acc))\n",
    "print('The confusion matrix is \\n{}\\n'.format(cm))\n",
    "print('F1 score is {}\\n'.format(f1))"
   ]
  },
  {
   "cell_type": "markdown",
   "metadata": {},
   "source": [
    "## 2. Training using the Random Forest model"
   ]
  },
  {
   "cell_type": "code",
   "execution_count": 17,
   "metadata": {},
   "outputs": [
    {
     "data": {
      "text/plain": [
       "RandomForestClassifier(criterion='entropy', random_state=0)"
      ]
     },
     "execution_count": 17,
     "metadata": {},
     "output_type": "execute_result"
    }
   ],
   "source": [
    "from sklearn.ensemble import RandomForestClassifier\n",
    "cf_randomf = RandomForestClassifier(n_estimators=100, criterion='entropy', random_state=0)\n",
    "cf_randomf.fit(X_train, y_train)"
   ]
  },
  {
   "cell_type": "code",
   "execution_count": 18,
   "metadata": {},
   "outputs": [
    {
     "name": "stdout",
     "output_type": "stream",
     "text": [
      "---\n",
      "Model 2: Random Forest\n",
      "The confusion matrix is \n",
      "[[85 12]\n",
      " [28 75]]\n",
      "\n",
      "F1 score is               precision    recall  f1-score   support\n",
      "\n",
      "           0       0.75      0.88      0.81        97\n",
      "           1       0.86      0.73      0.79       103\n",
      "\n",
      "    accuracy                           0.80       200\n",
      "   macro avg       0.81      0.80      0.80       200\n",
      "weighted avg       0.81      0.80      0.80       200\n",
      "\n",
      "\n"
     ]
    }
   ],
   "source": [
    "y_pred_cf_randomf = cf_randomf.predict(X_test)\n",
    "cm = confusion_matrix(y_test, y_pred_cf_randomf)\n",
    "f1 = classification_report(y_test, y_pred_cf_randomf)\n",
    "print('---')\n",
    "print('Model 2: Random Forest')\n",
    "print('The confusion matrix is \\n{}\\n'.format(cm))\n",
    "print('F1 score is {}\\n'.format(f1))"
   ]
  },
  {
   "cell_type": "markdown",
   "metadata": {},
   "source": [
    "## 3. Training using the Gradient Boost model"
   ]
  },
  {
   "cell_type": "code",
   "execution_count": 20,
   "metadata": {},
   "outputs": [
    {
     "name": "stdout",
     "output_type": "stream",
     "text": [
      "---\n",
      "Model 3: Gradient Boost\n",
      "The confusion matrix is \n",
      "[[86 11]\n",
      " [19 84]]\n",
      "\n",
      "F1 score is               precision    recall  f1-score   support\n",
      "\n",
      "           0       0.82      0.89      0.85        97\n",
      "           1       0.88      0.82      0.85       103\n",
      "\n",
      "    accuracy                           0.85       200\n",
      "   macro avg       0.85      0.85      0.85       200\n",
      "weighted avg       0.85      0.85      0.85       200\n",
      "\n",
      "\n"
     ]
    }
   ],
   "source": [
    "from sklearn.ensemble import GradientBoostingClassifier\n",
    "# cf_gb = GradientBoostingClassifier(n_estimators=154, max_depth=18, random_state=10)\n",
    "cf_gb = GradientBoostingClassifier(n_estimators=154, max_depth=18, random_state=0)\n",
    "\n",
    "cf_gb.fit(X_train, y_train)\n",
    "\n",
    "y_pred_cf_gb = cf_gb.predict(X_test)\n",
    "cm = confusion_matrix(y_test, y_pred_cf_gb)\n",
    "f1 = classification_report(y_test, y_pred_cf_gb)\n",
    "print('---')\n",
    "print('Model 3: Gradient Boost')\n",
    "print('The confusion matrix is \\n{}\\n'.format(cm))\n",
    "print('F1 score is {}\\n'.format(f1))"
   ]
  },
  {
   "cell_type": "markdown",
   "metadata": {},
   "source": [
    "## 3.2 GridSearch to fine tune GB hyperparameters"
   ]
  },
  {
   "cell_type": "code",
   "execution_count": 21,
   "metadata": {},
   "outputs": [
    {
     "name": "stdout",
     "output_type": "stream",
     "text": [
      "Best hyerparameters:\n",
      " {'max_depth': 18, 'n_estimators': 153}\n",
      "Best CV accuracy\n",
      "---\n",
      "Model 3b: Gradient Boost with best parameters\n",
      "The confusion matrix is \n",
      "[[86 11]\n",
      " [19 84]]\n",
      "\n",
      "F1 score is               precision    recall  f1-score   support\n",
      "\n",
      "           0       0.82      0.89      0.85        97\n",
      "           1       0.88      0.82      0.85       103\n",
      "\n",
      "    accuracy                           0.85       200\n",
      "   macro avg       0.85      0.85      0.85       200\n",
      "weighted avg       0.85      0.85      0.85       200\n",
      "\n",
      "\n"
     ]
    }
   ],
   "source": [
    "from sklearn.model_selection import GridSearchCV\n",
    "dt = GradientBoostingClassifier(random_state=0)\n",
    "\n",
    "param_dt = {\n",
    "            'n_estimators': [153, 154, 155, 156],\n",
    "            'max_depth': [15, 18, 19, 20],\n",
    "            }\n",
    "grid_dt = GridSearchCV(estimator=dt,\n",
    "                       param_grid=param_dt,\n",
    "                       scoring='accuracy',\n",
    "                       cv=10,\n",
    "                       n_jobs=-1)\n",
    "grid_dt.fit(X_train, y_train)\n",
    "best_hyperparams = grid_dt.best_params_\n",
    "print('Best hyerparameters:\\n', best_hyperparams)\n",
    "best_CV_score = grid_dt.best_score_\n",
    "print('Best CV accuracy'.format(best_CV_score))\n",
    "\n",
    "\n",
    "y_pred_cvgrid = grid_dt.predict(X_test)\n",
    "cm = confusion_matrix(y_test, y_pred_cvgrid)\n",
    "f1 = classification_report(y_test, y_pred_cvgrid)\n",
    "print('---')\n",
    "print('Model 3b: Gradient Boost with best parameters')\n",
    "print('The confusion matrix is \\n{}\\n'.format(cm))\n",
    "print('F1 score is {}\\n'.format(f1))"
   ]
  },
  {
   "cell_type": "markdown",
   "metadata": {},
   "source": [
    "## 4. Training using the Decision Tree model"
   ]
  },
  {
   "cell_type": "code",
   "execution_count": 32,
   "metadata": {},
   "outputs": [
    {
     "data": {
      "text/plain": [
       "DecisionTreeClassifier(criterion='entropy', random_state=0)"
      ]
     },
     "execution_count": 32,
     "metadata": {},
     "output_type": "execute_result"
    }
   ],
   "source": [
    "from sklearn.tree import DecisionTreeClassifier\n",
    "cf_decisiontree = DecisionTreeClassifier(criterion='entropy', random_state=0)\n",
    "cf_decisiontree.fit(X_train, y_train)"
   ]
  },
  {
   "cell_type": "code",
   "execution_count": 33,
   "metadata": {},
   "outputs": [
    {
     "name": "stdout",
     "output_type": "stream",
     "text": [
      "---\n",
      "Model 4:  Decision Tree\n",
      "The confusion matrix is \n",
      "[[74 23]\n",
      " [22 81]]\n",
      "\n",
      "F1 score is               precision    recall  f1-score   support\n",
      "\n",
      "           0       0.77      0.76      0.77        97\n",
      "           1       0.78      0.79      0.78       103\n",
      "\n",
      "    accuracy                           0.78       200\n",
      "   macro avg       0.77      0.77      0.77       200\n",
      "weighted avg       0.77      0.78      0.77       200\n",
      "\n",
      "\n"
     ]
    }
   ],
   "source": [
    "y_pred_cf_decisiontree = cf_decisiontree.predict(X_test)\n",
    "cm = confusion_matrix(y_test, y_pred_cf_decisiontree)\n",
    "f1 = classification_report(y_test, y_pred_cf_decisiontree)\n",
    "print('---')\n",
    "print('Model 4:  Decision Tree')\n",
    "print('The confusion matrix is \\n{}\\n'.format(cm))\n",
    "print('F1 score is {}\\n'.format(f1))"
   ]
  },
  {
   "cell_type": "markdown",
   "metadata": {},
   "source": [
    "## 5. Training using Logistic Regression"
   ]
  },
  {
   "cell_type": "code",
   "execution_count": 34,
   "metadata": {},
   "outputs": [
    {
     "data": {
      "text/plain": [
       "LogisticRegression(random_state=0)"
      ]
     },
     "execution_count": 34,
     "metadata": {},
     "output_type": "execute_result"
    }
   ],
   "source": [
    "from sklearn.linear_model import LogisticRegression\n",
    "cf_lr = LogisticRegression(random_state=0)\n",
    "cf_lr.fit(X_train, y_train)"
   ]
  },
  {
   "cell_type": "code",
   "execution_count": 35,
   "metadata": {},
   "outputs": [
    {
     "name": "stdout",
     "output_type": "stream",
     "text": [
      "---\n",
      "Model 5:  Logistic Regression\n",
      "The confusion matrix is \n",
      "[[82 15]\n",
      " [22 81]]\n",
      "\n",
      "F1 score is               precision    recall  f1-score   support\n",
      "\n",
      "           0       0.79      0.85      0.82        97\n",
      "           1       0.84      0.79      0.81       103\n",
      "\n",
      "    accuracy                           0.81       200\n",
      "   macro avg       0.82      0.82      0.81       200\n",
      "weighted avg       0.82      0.81      0.81       200\n",
      "\n",
      "\n"
     ]
    }
   ],
   "source": [
    "y_pred_cf_lr = cf_lr.predict(X_test)\n",
    "cm = confusion_matrix(y_test, y_pred_cf_lr)\n",
    "f1 = classification_report(y_test, y_pred_cf_lr)\n",
    "print('---')\n",
    "print('Model 5:  Logistic Regression')\n",
    "print('The confusion matrix is \\n{}\\n'.format(cm))\n",
    "print('F1 score is {}\\n'.format(f1))"
   ]
  },
  {
   "cell_type": "markdown",
   "metadata": {},
   "source": [
    "## 6. Training using Support Vector Machine (SVM - linear)"
   ]
  },
  {
   "cell_type": "code",
   "execution_count": 36,
   "metadata": {},
   "outputs": [
    {
     "name": "stdout",
     "output_type": "stream",
     "text": [
      "---\n",
      "Model 6: SVM - linear\n",
      "The confusion matrix is \n",
      "[[83 14]\n",
      " [22 81]]\n",
      "\n",
      "F1 score is               precision    recall  f1-score   support\n",
      "\n",
      "           0       0.79      0.86      0.82        97\n",
      "           1       0.85      0.79      0.82       103\n",
      "\n",
      "    accuracy                           0.82       200\n",
      "   macro avg       0.82      0.82      0.82       200\n",
      "weighted avg       0.82      0.82      0.82       200\n",
      "\n",
      "\n"
     ]
    }
   ],
   "source": [
    "from sklearn.svm import SVC\n",
    "cf_svc = SVC(kernel='linear', random_state=0)\n",
    "cf_svc.fit(X_train, y_train)\n",
    "\n",
    "y_pred_cf_svc = cf_svc.predict(X_test)\n",
    "cm = confusion_matrix(y_test, y_pred_cf_svc)\n",
    "f1 = classification_report(y_test, y_pred_cf_svc)\n",
    "print('---')\n",
    "print('Model 6: SVM - linear')\n",
    "print('The confusion matrix is \\n{}\\n'.format(cm))\n",
    "print('F1 score is {}\\n'.format(f1))"
   ]
  },
  {
   "cell_type": "markdown",
   "metadata": {},
   "source": [
    "## 7. Training using Support Vector Machine (SVM - nonlinear kernel)"
   ]
  },
  {
   "cell_type": "code",
   "execution_count": 37,
   "metadata": {},
   "outputs": [
    {
     "name": "stdout",
     "output_type": "stream",
     "text": [
      "---\n",
      "Model 7: SVM - nonlinear kernel\n",
      "The confusion matrix is \n",
      "[[89  8]\n",
      " [36 67]]\n",
      "\n",
      "F1 score is               precision    recall  f1-score   support\n",
      "\n",
      "           0       0.71      0.92      0.80        97\n",
      "           1       0.89      0.65      0.75       103\n",
      "\n",
      "    accuracy                           0.78       200\n",
      "   macro avg       0.80      0.78      0.78       200\n",
      "weighted avg       0.81      0.78      0.78       200\n",
      "\n",
      "\n"
     ]
    }
   ],
   "source": [
    "from sklearn.svm import SVC\n",
    "cf_svcrbf = SVC(kernel='rbf', random_state=0)\n",
    "cf_svcrbf.fit(X_train, y_train)\n",
    "\n",
    "y_pred_cf_svcrbf = cf_svcrbf.predict(X_test)\n",
    "cm = confusion_matrix(y_test, y_pred_cf_svcrbf)\n",
    "f1 = classification_report(y_test, y_pred_cf_svcrbf)\n",
    "print('---')\n",
    "print('Model 7: SVM - nonlinear kernel')\n",
    "print('The confusion matrix is \\n{}\\n'.format(cm))\n",
    "print('F1 score is {}\\n'.format(f1))"
   ]
  },
  {
   "cell_type": "markdown",
   "metadata": {},
   "source": [
    "## 8. Training using K-nearest neighbors (KNN)"
   ]
  },
  {
   "cell_type": "code",
   "execution_count": 38,
   "metadata": {},
   "outputs": [
    {
     "name": "stdout",
     "output_type": "stream",
     "text": [
      "---\n",
      "Model 8:  Decision Tree\n",
      "The confusion matrix is \n",
      "[[54 43]\n",
      " [22 81]]\n",
      "\n",
      "F1 score is               precision    recall  f1-score   support\n",
      "\n",
      "           0       0.71      0.56      0.62        97\n",
      "           1       0.65      0.79      0.71       103\n",
      "\n",
      "    accuracy                           0.68       200\n",
      "   macro avg       0.68      0.67      0.67       200\n",
      "weighted avg       0.68      0.68      0.67       200\n",
      "\n",
      "\n"
     ]
    }
   ],
   "source": [
    "from sklearn.neighbors import KNeighborsClassifier\n",
    "cf_knn = KNeighborsClassifier(n_neighbors = 20, metric = 'minkowski', p = 6)\n",
    "cf_knn.fit(X_train, y_train)\n",
    "\n",
    "y_pred_cf_knn = cf_knn.predict(X_test)\n",
    "cm = confusion_matrix(y_test, y_pred_cf_knn)\n",
    "f1 = classification_report(y_test, y_pred_cf_knn)\n",
    "print('---')\n",
    "print('Model 8:  Decision Tree')\n",
    "print('The confusion matrix is \\n{}\\n'.format(cm))\n",
    "print('F1 score is {}\\n'.format(f1))"
   ]
  },
  {
   "cell_type": "markdown",
   "metadata": {},
   "source": [
    "Summary: Gradient Boost seems to return the best accuracy, precision, recall and F1 score. SVM (linear) is second...\n",
    "Fine-tunning features (word vectorization step) is important. "
   ]
  },
  {
   "cell_type": "code",
   "execution_count": null,
   "metadata": {},
   "outputs": [],
   "source": []
  }
 ],
 "metadata": {
  "kernelspec": {
   "display_name": "Python 3",
   "language": "python",
   "name": "python3"
  },
  "language_info": {
   "codemirror_mode": {
    "name": "ipython",
    "version": 3
   },
   "file_extension": ".py",
   "mimetype": "text/x-python",
   "name": "python",
   "nbconvert_exporter": "python",
   "pygments_lexer": "ipython3",
   "version": "3.8.5"
  }
 },
 "nbformat": 4,
 "nbformat_minor": 4
}
